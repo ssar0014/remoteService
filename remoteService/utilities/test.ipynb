{
 "cells": [
  {
   "cell_type": "code",
   "execution_count": null,
   "id": "6d48ceaa",
   "metadata": {},
   "outputs": [],
   "source": [
    "from InsightsEngine import InsightsEngine"
   ]
  },
  {
   "cell_type": "code",
   "execution_count": null,
   "id": "4bb8c0e4",
   "metadata": {},
   "outputs": [],
   "source": [
    "ins = InsightsEngine()"
   ]
  },
  {
   "cell_type": "code",
   "execution_count": null,
   "id": "5951d010",
   "metadata": {},
   "outputs": [],
   "source": [
    "data_dict = ins.get_data()"
   ]
  },
  {
   "cell_type": "code",
   "execution_count": null,
   "id": "a27b5c4d",
   "metadata": {},
   "outputs": [],
   "source": [
    "data_dict"
   ]
  },
  {
   "cell_type": "code",
   "execution_count": null,
   "id": "7d978ba6",
   "metadata": {},
   "outputs": [],
   "source": [
    "df = ins.make_dataframe(data_dict)"
   ]
  },
  {
   "cell_type": "code",
   "execution_count": null,
   "id": "e61966fa",
   "metadata": {},
   "outputs": [],
   "source": [
    "df"
   ]
  },
  {
   "cell_type": "code",
   "execution_count": null,
   "id": "a2dac171",
   "metadata": {},
   "outputs": [],
   "source": [
    "# drop empty journals because we don't need them\n",
    "df = ins.remove_empty(df)"
   ]
  },
  {
   "cell_type": "code",
   "execution_count": null,
   "id": "12ce3594",
   "metadata": {},
   "outputs": [],
   "source": [
    "df"
   ]
  },
  {
   "cell_type": "code",
   "execution_count": null,
   "id": "1d1ab3d4",
   "metadata": {},
   "outputs": [],
   "source": [
    "ins.load_language_model(size='small')"
   ]
  },
  {
   "cell_type": "code",
   "execution_count": null,
   "id": "07ccb5ed",
   "metadata": {},
   "outputs": [],
   "source": [
    "ins.nlp"
   ]
  },
  {
   "cell_type": "code",
   "execution_count": null,
   "id": "94082055",
   "metadata": {},
   "outputs": [],
   "source": [
    "ins.remove_numbers(field='TEXT')"
   ]
  },
  {
   "cell_type": "code",
   "execution_count": null,
   "id": "5446862b",
   "metadata": {},
   "outputs": [],
   "source": [
    "ins.remove_stopwords(field='TEXT')"
   ]
  },
  {
   "cell_type": "code",
   "execution_count": null,
   "id": "cd44a28c",
   "metadata": {},
   "outputs": [],
   "source": [
    "import remoteService.databaseUtils as db\n",
    "from remoteService.databaseUtils import *"
   ]
  },
  {
   "cell_type": "code",
   "execution_count": null,
   "id": "ffb56df2",
   "metadata": {},
   "outputs": [],
   "source": [
    "db.read_all()"
   ]
  },
  {
   "cell_type": "code",
   "execution_count": null,
   "id": "3d91ee6e",
   "metadata": {},
   "outputs": [],
   "source": [
    "response_dict = {}\n",
    "for idx, row in df.iterrows():\n",
    "    response_dict[row['JOURNAL_ID']] = row['TEXT']\n",
    "    "
   ]
  },
  {
   "cell_type": "code",
   "execution_count": null,
   "id": "12bdb085",
   "metadata": {},
   "outputs": [],
   "source": [
    "import json\n",
    "\n",
    "response_json = json.dumps(response_dict)"
   ]
  },
  {
   "cell_type": "code",
   "execution_count": null,
   "id": "eadcfe74",
   "metadata": {},
   "outputs": [],
   "source": [
    "response_json"
   ]
  },
  {
   "cell_type": "code",
   "execution_count": null,
   "id": "308be75f",
   "metadata": {},
   "outputs": [],
   "source": [
    "db.add_entry(\"RMS_002\", \"Remote Service 12\", datetime.now(), datetime.now(), response_dict)"
   ]
  },
  {
   "cell_type": "code",
   "execution_count": null,
   "id": "074492f1",
   "metadata": {},
   "outputs": [],
   "source": [
    "db.read_entry(1)"
   ]
  },
  {
   "cell_type": "code",
   "execution_count": null,
   "id": "5a223f87",
   "metadata": {},
   "outputs": [],
   "source": [
    "db.delete_entry(\"RMS_001\")"
   ]
  },
  {
   "cell_type": "code",
   "execution_count": null,
   "id": "8b4748e9",
   "metadata": {},
   "outputs": [],
   "source": [
    "db.read_all()"
   ]
  },
  {
   "cell_type": "markdown",
   "id": "ede87b34",
   "metadata": {},
   "source": [
    "Kafka Test"
   ]
  },
  {
   "cell_type": "code",
   "execution_count": 49,
   "id": "59d44ab4",
   "metadata": {},
   "outputs": [],
   "source": [
    "import kafka\n",
    "from kafka import KafkaProducer\n",
    "import json"
   ]
  },
  {
   "cell_type": "code",
   "execution_count": 50,
   "id": "208fba0e",
   "metadata": {},
   "outputs": [],
   "source": [
    "def json_serializer(data):\n",
    "    return json.dumps(data).encode(\"utf-8\")"
   ]
  },
  {
   "cell_type": "code",
   "execution_count": 51,
   "id": "f1ef32cd",
   "metadata": {},
   "outputs": [],
   "source": [
    "producer = KafkaProducer(bootstrap_servers=['localhost:9092'],\n",
    "                        value_serializer=json_serializer,\n",
    "                        security_protocol=\"PLAINTEXT\",\n",
    "                        api_version=(0,11,5))"
   ]
  },
  {
   "cell_type": "markdown",
   "id": "9d93b49e",
   "metadata": {},
   "source": [
    "Use Faker to generate random names and stuff "
   ]
  },
  {
   "cell_type": "code",
   "execution_count": 52,
   "id": "0d042a87",
   "metadata": {},
   "outputs": [],
   "source": [
    "import faker\n",
    "from faker import Faker"
   ]
  },
  {
   "cell_type": "code",
   "execution_count": 53,
   "id": "c9ecd992",
   "metadata": {},
   "outputs": [],
   "source": [
    "fake = Faker()"
   ]
  },
  {
   "cell_type": "code",
   "execution_count": 54,
   "id": "883817bb",
   "metadata": {},
   "outputs": [
    {
     "data": {
      "text/plain": [
       "'152 Andrea Centers Suite 974\\nNew Apriltown, AK 06366'"
      ]
     },
     "execution_count": 54,
     "metadata": {},
     "output_type": "execute_result"
    }
   ],
   "source": [
    "fake.address()"
   ]
  },
  {
   "cell_type": "code",
   "execution_count": 55,
   "id": "d6d774f8",
   "metadata": {},
   "outputs": [
    {
     "data": {
      "text/plain": [
       "'1981-10-27'"
      ]
     },
     "execution_count": 55,
     "metadata": {},
     "output_type": "execute_result"
    }
   ],
   "source": [
    "fake.date()"
   ]
  },
  {
   "cell_type": "code",
   "execution_count": 56,
   "id": "78515d7a",
   "metadata": {},
   "outputs": [],
   "source": [
    "# create a fake entry\n",
    "def create_fake_entry():\n",
    "    fake_entry = {\n",
    "        \"name\": fake.name(),\n",
    "        \"address\": fake.address(),\n",
    "        \"DOB\": fake.date()\n",
    "    }\n",
    "    return fake_entry"
   ]
  },
  {
   "cell_type": "code",
   "execution_count": 57,
   "id": "aecd25f4",
   "metadata": {},
   "outputs": [
    {
     "data": {
      "text/plain": [
       "{'name': 'Robert Archer',\n",
       " 'address': '8045 Carol Rapids\\nBrownfort, MO 50089',\n",
       " 'DOB': '1994-03-10'}"
      ]
     },
     "execution_count": 57,
     "metadata": {},
     "output_type": "execute_result"
    }
   ],
   "source": [
    "create_fake_entry()"
   ]
  },
  {
   "cell_type": "code",
   "execution_count": 58,
   "id": "63a6f6cb",
   "metadata": {},
   "outputs": [
    {
     "name": "stdout",
     "output_type": "stream",
     "text": [
      "{'name': 'Gina Torres', 'address': '141 Teresa Union Suite 227\\nEast Katherinehaven, DE 99091', 'DOB': '1987-09-19'}\n"
     ]
    },
    {
     "ename": "KafkaTimeoutError",
     "evalue": "KafkaTimeoutError: Failed to update metadata after 60.0 secs.",
     "output_type": "error",
     "traceback": [
      "\u001b[0;31m---------------------------------------------------------------------------\u001b[0m",
      "\u001b[0;31mKafkaTimeoutError\u001b[0m                         Traceback (most recent call last)",
      "\u001b[0;32m<ipython-input-58-7dc3e8c1ecd8>\u001b[0m in \u001b[0;36m<module>\u001b[0;34m\u001b[0m\n\u001b[1;32m      4\u001b[0m     \u001b[0mfake_entry\u001b[0m \u001b[0;34m=\u001b[0m \u001b[0mcreate_fake_entry\u001b[0m\u001b[0;34m(\u001b[0m\u001b[0;34m)\u001b[0m\u001b[0;34m\u001b[0m\u001b[0;34m\u001b[0m\u001b[0m\n\u001b[1;32m      5\u001b[0m     \u001b[0mprint\u001b[0m\u001b[0;34m(\u001b[0m\u001b[0mfake_entry\u001b[0m\u001b[0;34m)\u001b[0m\u001b[0;34m\u001b[0m\u001b[0;34m\u001b[0m\u001b[0m\n\u001b[0;32m----> 6\u001b[0;31m     \u001b[0mproducer\u001b[0m\u001b[0;34m.\u001b[0m\u001b[0msend\u001b[0m\u001b[0;34m(\u001b[0m\u001b[0;34m\"remoteServiceTopic3\"\u001b[0m\u001b[0;34m,\u001b[0m \u001b[0mfake_entry\u001b[0m\u001b[0;34m)\u001b[0m\u001b[0;34m\u001b[0m\u001b[0;34m\u001b[0m\u001b[0m\n\u001b[0m\u001b[1;32m      7\u001b[0m     \u001b[0mtime\u001b[0m\u001b[0;34m.\u001b[0m\u001b[0msleep\u001b[0m\u001b[0;34m(\u001b[0m\u001b[0;36m3\u001b[0m\u001b[0;34m)\u001b[0m\u001b[0;34m\u001b[0m\u001b[0;34m\u001b[0m\u001b[0m\n",
      "\u001b[0;32m/opt/homebrew/Caskroom/miniforge/base/envs/jupyter/lib/python3.9/site-packages/kafka/producer/kafka.py\u001b[0m in \u001b[0;36msend\u001b[0;34m(self, topic, value, key, headers, partition, timestamp_ms)\u001b[0m\n\u001b[1;32m    574\u001b[0m         \u001b[0mkey_bytes\u001b[0m \u001b[0;34m=\u001b[0m \u001b[0mvalue_bytes\u001b[0m \u001b[0;34m=\u001b[0m \u001b[0;32mNone\u001b[0m\u001b[0;34m\u001b[0m\u001b[0;34m\u001b[0m\u001b[0m\n\u001b[1;32m    575\u001b[0m         \u001b[0;32mtry\u001b[0m\u001b[0;34m:\u001b[0m\u001b[0;34m\u001b[0m\u001b[0;34m\u001b[0m\u001b[0m\n\u001b[0;32m--> 576\u001b[0;31m             \u001b[0mself\u001b[0m\u001b[0;34m.\u001b[0m\u001b[0m_wait_on_metadata\u001b[0m\u001b[0;34m(\u001b[0m\u001b[0mtopic\u001b[0m\u001b[0;34m,\u001b[0m \u001b[0mself\u001b[0m\u001b[0;34m.\u001b[0m\u001b[0mconfig\u001b[0m\u001b[0;34m[\u001b[0m\u001b[0;34m'max_block_ms'\u001b[0m\u001b[0;34m]\u001b[0m \u001b[0;34m/\u001b[0m \u001b[0;36m1000.0\u001b[0m\u001b[0;34m)\u001b[0m\u001b[0;34m\u001b[0m\u001b[0;34m\u001b[0m\u001b[0m\n\u001b[0m\u001b[1;32m    577\u001b[0m \u001b[0;34m\u001b[0m\u001b[0m\n\u001b[1;32m    578\u001b[0m             key_bytes = self._serialize(\n",
      "\u001b[0;32m/opt/homebrew/Caskroom/miniforge/base/envs/jupyter/lib/python3.9/site-packages/kafka/producer/kafka.py\u001b[0m in \u001b[0;36m_wait_on_metadata\u001b[0;34m(self, topic, max_wait)\u001b[0m\n\u001b[1;32m    700\u001b[0m             \u001b[0melapsed\u001b[0m \u001b[0;34m=\u001b[0m \u001b[0mtime\u001b[0m\u001b[0;34m.\u001b[0m\u001b[0mtime\u001b[0m\u001b[0;34m(\u001b[0m\u001b[0;34m)\u001b[0m \u001b[0;34m-\u001b[0m \u001b[0mbegin\u001b[0m\u001b[0;34m\u001b[0m\u001b[0;34m\u001b[0m\u001b[0m\n\u001b[1;32m    701\u001b[0m             \u001b[0;32mif\u001b[0m \u001b[0;32mnot\u001b[0m \u001b[0mmetadata_event\u001b[0m\u001b[0;34m.\u001b[0m\u001b[0mis_set\u001b[0m\u001b[0;34m(\u001b[0m\u001b[0;34m)\u001b[0m\u001b[0;34m:\u001b[0m\u001b[0;34m\u001b[0m\u001b[0;34m\u001b[0m\u001b[0m\n\u001b[0;32m--> 702\u001b[0;31m                 raise Errors.KafkaTimeoutError(\n\u001b[0m\u001b[1;32m    703\u001b[0m                     \"Failed to update metadata after %.1f secs.\" % (max_wait,))\n\u001b[1;32m    704\u001b[0m             \u001b[0;32melif\u001b[0m \u001b[0mtopic\u001b[0m \u001b[0;32min\u001b[0m \u001b[0mself\u001b[0m\u001b[0;34m.\u001b[0m\u001b[0m_metadata\u001b[0m\u001b[0;34m.\u001b[0m\u001b[0munauthorized_topics\u001b[0m\u001b[0;34m:\u001b[0m\u001b[0;34m\u001b[0m\u001b[0;34m\u001b[0m\u001b[0m\n",
      "\u001b[0;31mKafkaTimeoutError\u001b[0m: KafkaTimeoutError: Failed to update metadata after 60.0 secs."
     ]
    }
   ],
   "source": [
    "import time\n",
    "# send data from producer using: topic name, value serializer, bootstrap server\n",
    "for _ in range(10):\n",
    "    fake_entry = create_fake_entry()\n",
    "    print(fake_entry)\n",
    "    producer.send(\"remoteServiceTopic3\", fake_entry)\n",
    "    time.sleep(3)"
   ]
  },
  {
   "cell_type": "code",
   "execution_count": null,
   "id": "a0d291d8",
   "metadata": {},
   "outputs": [],
   "source": []
  }
 ],
 "metadata": {
  "kernelspec": {
   "display_name": "Python 3",
   "language": "python",
   "name": "python3"
  },
  "language_info": {
   "codemirror_mode": {
    "name": "ipython",
    "version": 3
   },
   "file_extension": ".py",
   "mimetype": "text/x-python",
   "name": "python",
   "nbconvert_exporter": "python",
   "pygments_lexer": "ipython3",
   "version": "3.9.4"
  }
 },
 "nbformat": 4,
 "nbformat_minor": 5
}
